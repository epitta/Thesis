{
 "cells": [
  {
   "cell_type": "markdown",
   "metadata": {},
   "source": [
    "### Llama 3.2 Vision "
   ]
  },
  {
   "cell_type": "code",
   "execution_count": 1,
   "metadata": {},
   "outputs": [],
   "source": [
    "import ollama\n",
    "import pprint\n",
    "import pandas as pd\n",
    "import os\n",
    "from sklearn.metrics import accuracy_score, f1_score, precision_score, recall_score\n",
    "import re"
   ]
  },
  {
   "cell_type": "code",
   "execution_count": 2,
   "metadata": {},
   "outputs": [
    {
     "data": {
      "text/plain": [
       "{0: (0, 1000),\n",
       " 1: (1000, 2000),\n",
       " 2: (2000, 3000),\n",
       " 3: (3000, 4000),\n",
       " 4: (4000, 5000),\n",
       " 5: (5000, 6000),\n",
       " 6: (6000, 7000),\n",
       " 7: (7000, 8000),\n",
       " 8: (8000, 9000),\n",
       " 9: (9000, 10000),\n",
       " 10: (10000, 11000),\n",
       " 11: (11000, 12000),\n",
       " 12: (12000, 13000),\n",
       " 13: (13000, 14000),\n",
       " 14: (14000, 14740)}"
      ]
     },
     "execution_count": 2,
     "metadata": {},
     "output_type": "execute_result"
    }
   ],
   "source": [
    "test_data = pd.read_csv('esnlive_test_final.csv')\n",
    "image_folder = \"flickr30k_images\"\n",
    "# crete range of samples one set shoul be 1000 entires \n",
    "ranges = [(i, min(i+1000, len(test_data))) for i in range(0, len(test_data), 1000)]\n",
    "ranges_dict = {i: (x, y) for i, (x, y) in enumerate(ranges)}\n",
    "ranges_dict"
   ]
  },
  {
   "cell_type": "code",
   "execution_count": null,
   "metadata": {},
   "outputs": [],
   "source": [
    "def chunk_test_data(from_index, to_index):\n",
    "    test_data_sub = test_data.iloc[from_index:to_index]\n",
    "\n",
    "    def zero_shot(model, premise_path, hypothesis):\n",
    "        if not os.path.exists(premise_path):\n",
    "            raise FileNotFoundError(f\"Image file not found: {premise_path}\")\n",
    "        \n",
    "        response = ollama.chat(\n",
    "                            model=model,\n",
    "                            messages=[{\n",
    "                                    \"role\": \"user\",\n",
    "                                    \"content\": f\"\"\"Given the text hypothesis '{hypothesis}' classify it into one of the following three categories: [Entailment, Neutral, Contradiction].\n",
    "                                    Entailment holds if there is enough evidence in image Premise to conclude that text Hypothesis is true.\n",
    "                                    Contradiction holds if text Hypothesis contradicts image Premise.\n",
    "                                    Neutral holds if the evidence in image Premise is insufficient to draw a conclusion from text Hypothesis\n",
    "                                    In your answer don't give any explanation, just the category.\"\"\",\n",
    "                                    \"images\": [premise_path]}])\n",
    "        \n",
    "        try:\n",
    "            full_prediction = response.message.content\n",
    "            print(\"Prediction:\", full_prediction)\n",
    "\n",
    "            match = re.search(r'\\b(Entailment|Neutral|Contradiction)\\b', full_prediction, re.IGNORECASE)\n",
    "            prediction = match.group(0) if match else \"No match found\"\n",
    "        except AttributeError:\n",
    "            prediction = \"No content in response\"\n",
    "        # print(f\"Prediction: {prediction}\")\n",
    "        return prediction\n",
    "\n",
    "    model_name = \"llama3.2-vision\"\n",
    "    results = []\n",
    "\n",
    "    for _, sample in test_data_sub.iterrows():\n",
    "        image_name = sample['pairID'].split('#')[0]\n",
    "        premise_path = os.path.join(image_folder, image_name)\n",
    "        hypothesis = sample['hypothesis']\n",
    "        label = sample['gold_label']\n",
    "        prediction = \"Error\"\n",
    "\n",
    "        try:\n",
    "            prediction = zero_shot(model_name, premise_path, hypothesis)\n",
    "        except Exception as e:\n",
    "            print(f\"Error processing sample: {sample}. Error: {e}\")\n",
    "        \n",
    "        results.append({'premise': premise_path, 'hypothesis': hypothesis, 'label': label, 'prediction': prediction})\n",
    "\n",
    "    # pprint.pprint(results)\n",
    "    results_df = pd.DataFrame(results)\n",
    "    results_df[\"prediction\"] = results_df[\"prediction\"].str.lower()\n",
    "\n",
    "    results_df.to_csv(f\"results/results_from_{from_index}_to_{to_index}.csv\".format(0), index=False)"
   ]
  },
  {
   "cell_type": "code",
   "execution_count": 4,
   "metadata": {},
   "outputs": [
    {
     "name": "stdout",
     "output_type": "stream",
     "text": [
      "Prediction: Entailment\n",
      "Prediction: Entailment.\n",
      "Prediction: Contradiction.\n"
     ]
    }
   ],
   "source": [
    "from_, to_ = ranges_dict[0]\n",
    "\n",
    "# chunk_test_data(from_, to_)\n",
    "chunk_test_data(0, 3)"
   ]
  }
 ],
 "metadata": {
  "kernelspec": {
   "display_name": "base",
   "language": "python",
   "name": "python3"
  },
  "language_info": {
   "codemirror_mode": {
    "name": "ipython",
    "version": 3
   },
   "file_extension": ".py",
   "mimetype": "text/x-python",
   "name": "python",
   "nbconvert_exporter": "python",
   "pygments_lexer": "ipython3",
   "version": "3.12.1"
  }
 },
 "nbformat": 4,
 "nbformat_minor": 2
}
